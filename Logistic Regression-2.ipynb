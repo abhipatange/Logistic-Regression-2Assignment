{
 "cells": [
  {
   "cell_type": "code",
   "execution_count": null,
   "id": "1f1bfbd8-0bde-4000-87ea-2adbbfa896e4",
   "metadata": {},
   "outputs": [],
   "source": [
    "Q1. What is the purpose of grid search cv in machine learning, and how does it work?"
   ]
  },
  {
   "cell_type": "code",
   "execution_count": null,
   "id": "44c54d84-30fb-4b7e-b63b-b4d203d07d2b",
   "metadata": {},
   "outputs": [],
   "source": [
    "Ans =\n",
    "     GridSearchCV is a technique for finding the optimal parameter values from a given set of parameters in a grid.\n",
    "     Its essentially a cross-validation technique.\n",
    "        The model as well as the parameters must be entered.\n",
    "        After extracting the best parameter values, predictions are made."
   ]
  },
  {
   "cell_type": "code",
   "execution_count": null,
   "id": "f50c563c-bb80-4914-a345-4fac17672881",
   "metadata": {},
   "outputs": [],
   "source": []
  },
  {
   "cell_type": "code",
   "execution_count": null,
   "id": "94c6abda-09bf-48f2-88b1-1a7a4230e4b5",
   "metadata": {},
   "outputs": [],
   "source": [
    "Q2. Describe the difference between grid search cv and randomize search cv, and when might you choose\n",
    "one over the other?"
   ]
  },
  {
   "cell_type": "code",
   "execution_count": null,
   "id": "7a3538db-bdd7-4d4c-84e5-f5992597a2ed",
   "metadata": {},
   "outputs": [],
   "source": [
    "ANS =\n",
    "     While grid search looks at every possible combination of hyperparameters to find the best model,\n",
    "     random search only selects and tests a random combination of hyperparameters. \n",
    "        This technique randomly samples from a grid of hyperparameters instead of conducting an exhaustive search."
   ]
  },
  {
   "cell_type": "code",
   "execution_count": null,
   "id": "d304344f-83a8-4424-9ed9-a2bed6950a30",
   "metadata": {},
   "outputs": [],
   "source": []
  },
  {
   "cell_type": "code",
   "execution_count": null,
   "id": "d6a0505a-6b77-4d61-81d5-2a8b4850a067",
   "metadata": {},
   "outputs": [],
   "source": [
    "Q3. What is data leakage, and why is it a problem in machine learning? Provide an example."
   ]
  },
  {
   "cell_type": "code",
   "execution_count": null,
   "id": "44936062-fd76-40a6-a028-bac5e9fbc339",
   "metadata": {},
   "outputs": [],
   "source": [
    "ANS =\n",
    "    Data leakage happens when your training data contains information about the target,\n",
    "    but similar data will not be available when the model is used for prediction. \n",
    "    This leads to high performance on the training set , \n",
    "    but the model will perform poorly in production.\n",
    "    \n",
    "    Example.The unauthorized transmission of data from an organization to any external source is known as data leakage. \n",
    "       This data can be leaked physically or electronically via hard drives, USB devices, mobile phones, etc.,\n",
    "        and could be exposed publicly or fall into the hands of a cyber criminal."
   ]
  },
  {
   "cell_type": "code",
   "execution_count": null,
   "id": "4ec2973a-10e9-4f65-8476-c7f607ea7d09",
   "metadata": {},
   "outputs": [],
   "source": []
  },
  {
   "cell_type": "code",
   "execution_count": null,
   "id": "d42519ce-cc05-4216-aea1-eab1240e76e8",
   "metadata": {},
   "outputs": [],
   "source": [
    "Q4. How can you prevent data leakage when building a machine learning model?"
   ]
  },
  {
   "cell_type": "code",
   "execution_count": null,
   "id": "2c81a66a-3214-4add-ac77-736aa527f205",
   "metadata": {},
   "outputs": [],
   "source": [
    "ANS =\n",
    "    Best practices for avoiding data leakage in machine learning\n",
    "     Carefully design your data pipeline: Carefully designing your \n",
    "        data pipeline can help prevent data leakage.\n",
    "        This includes selecting appropriate features, properly splitting your data, \n",
    "        and ensuring that preprocessing steps are applied only to the training set."
   ]
  },
  {
   "cell_type": "code",
   "execution_count": null,
   "id": "fba77fbe-fba5-44b8-afb9-eb4e404182a9",
   "metadata": {},
   "outputs": [],
   "source": []
  },
  {
   "cell_type": "code",
   "execution_count": null,
   "id": "aaeca671-9ba3-4a82-b423-6b45665a8403",
   "metadata": {},
   "outputs": [],
   "source": [
    "Q5. What is a confusion matrix, and what does it tell you about the performance of a classification model?"
   ]
  },
  {
   "cell_type": "code",
   "execution_count": null,
   "id": "fe6ff96a-db2b-42aa-9392-fc805d0d1464",
   "metadata": {},
   "outputs": [],
   "source": [
    "ANS =\n",
    "    A confusion matrix is a table that allows you to visualize the performance of a classification model.\n",
    "    You can also use the information in it to calculate measures that can help\n",
    "    you determine the usefulness of the model. \n",
    "    Rows represent predicted classifications, while columns represent the true classes from the data."
   ]
  },
  {
   "cell_type": "code",
   "execution_count": null,
   "id": "1fb38aed-2582-425c-8ebc-4ca6f4b9db92",
   "metadata": {},
   "outputs": [],
   "source": []
  },
  {
   "cell_type": "code",
   "execution_count": null,
   "id": "f2731453-989a-4d58-bc06-82ebef0e51ee",
   "metadata": {},
   "outputs": [],
   "source": [
    "Q6. Explain the difference between precision and recall in the context of a confusion matrix."
   ]
  },
  {
   "cell_type": "code",
   "execution_count": null,
   "id": "95e6e529-bb10-40e6-a265-cf3a0e5f30e2",
   "metadata": {},
   "outputs": [],
   "source": [
    "ANS=\n",
    "   Precision and recall are two evaluation metrics used to measure the performance \n",
    "    of a classifier in binary and multiclass classification problems. \n",
    "    Precision measures the accuracy of positive predictions, \n",
    "    while recall measures the completeness of positive predictions."
   ]
  },
  {
   "cell_type": "code",
   "execution_count": null,
   "id": "4ae955ef-119c-4e13-a810-cfe59a3bca20",
   "metadata": {},
   "outputs": [],
   "source": []
  },
  {
   "cell_type": "code",
   "execution_count": null,
   "id": "ccbac6c1-34af-47bf-beea-bf7b74993aaa",
   "metadata": {},
   "outputs": [],
   "source": [
    "Q7. How can you interpret a confusion matrix to determine which types of errors your model is making?"
   ]
  },
  {
   "cell_type": "code",
   "execution_count": null,
   "id": "8f640eb7-7a3d-4c2c-aed3-93917014ebca",
   "metadata": {},
   "outputs": [],
   "source": [
    "ANS =\n",
    "     Error rate (ERR) is calculated as the number of all incorrect predictions divided by the total number of the dataset. \n",
    "     The best error rate is 0.0, whereas the worst is 1.0.\n",
    "     Error rate is calculated as the total number of two incorrect predictions\n",
    "    (FN + FP) divided by the total number of a dataset (P + N)."
   ]
  },
  {
   "cell_type": "code",
   "execution_count": null,
   "id": "f98afac8-d2ca-4fcc-b972-c036b69720f7",
   "metadata": {},
   "outputs": [],
   "source": []
  },
  {
   "cell_type": "code",
   "execution_count": null,
   "id": "3065585a-96cd-4cf0-9bc9-618678ae9967",
   "metadata": {},
   "outputs": [],
   "source": [
    "Q8. What are some common metrics that can be derived from a confusion matrix, and how are they\n",
    "calculated?"
   ]
  },
  {
   "cell_type": "code",
   "execution_count": null,
   "id": "9c6f2a8a-36f3-48bb-baf3-38a5d8e86baa",
   "metadata": {},
   "outputs": [],
   "source": [
    "ANS =\n",
    "     The most frequently used performance metrics for classification according to these values are accuracy (ACC), \n",
    "     precision (P), sensitivity (Sn), specificity (Sp), and F-score values.\n",
    "    The calculation of these performance metrics according to the values in \n",
    "    the confusion matrix is made according to Eqs.\n",
    "    "
   ]
  },
  {
   "cell_type": "code",
   "execution_count": null,
   "id": "6bf34b0e-be67-43a1-a01c-73258e5eb656",
   "metadata": {},
   "outputs": [],
   "source": []
  },
  {
   "cell_type": "code",
   "execution_count": null,
   "id": "0373d663-6883-4b1e-b29b-7b555d95670e",
   "metadata": {},
   "outputs": [],
   "source": [
    "Q9. What is the relationship between the accuracy of a model and the values in its confusion matrix?"
   ]
  },
  {
   "cell_type": "code",
   "execution_count": null,
   "id": "d32c8a4c-2ef7-48d8-8feb-6e52909c4494",
   "metadata": {},
   "outputs": [],
   "source": [
    "ANS =\n",
    "    A confusion matrix is a performance evaluation tool in machine learning,\n",
    "    representing the accuracy of a classification model.\n",
    "    It displays the number of true positives, true negatives, false positives, and false negatives.\n",
    "    \n",
    "    Accuracy tells you how many times the ML model was correct overall.\n",
    "    Precision is how good the model is at predicting a specific category. \n",
    "    Recall tells you how many times the model was able to detect a specific category."
   ]
  },
  {
   "cell_type": "code",
   "execution_count": null,
   "id": "9a5d8082-0a0c-466b-9c0a-a4ace90d1aa2",
   "metadata": {},
   "outputs": [],
   "source": []
  },
  {
   "cell_type": "code",
   "execution_count": null,
   "id": "3d3f4468-ab2d-47b3-b14e-5049807d5792",
   "metadata": {},
   "outputs": [],
   "source": [
    "Q10. How can you use a confusion matrix to identify potential biases or limitations in your machine learning\n",
    "model?"
   ]
  },
  {
   "cell_type": "code",
   "execution_count": null,
   "id": "10c8884d-928b-4cc6-a009-dce7e7016fd5",
   "metadata": {},
   "outputs": [],
   "source": [
    "ANS = \n",
    "    A Confusion matrix is an N x N matrix used for evaluating the performance of a classification model,\n",
    "    where N is the total number of target classes. \n",
    "    The matrix compares the actual target values with those predicted by the machine learning model.\n",
    "    \n",
    "    A confusion matrix is a table that allows you to visualize the performance of a classification model. You can also use the information in it to calculate measures that can help you determine the usefulness of the model. Rows represent predicted classifications, while columns represent the true classes from the data.\n",
    "    "
   ]
  },
  {
   "cell_type": "code",
   "execution_count": null,
   "id": "90869eee-08cf-4f1a-ab11-07bb9c79d9ed",
   "metadata": {},
   "outputs": [],
   "source": []
  }
 ],
 "metadata": {
  "kernelspec": {
   "display_name": "Python 3 (ipykernel)",
   "language": "python",
   "name": "python3"
  },
  "language_info": {
   "codemirror_mode": {
    "name": "ipython",
    "version": 3
   },
   "file_extension": ".py",
   "mimetype": "text/x-python",
   "name": "python",
   "nbconvert_exporter": "python",
   "pygments_lexer": "ipython3",
   "version": "3.10.8"
  }
 },
 "nbformat": 4,
 "nbformat_minor": 5
}
